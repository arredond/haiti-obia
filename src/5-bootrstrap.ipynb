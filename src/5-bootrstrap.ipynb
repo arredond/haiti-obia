{
 "cells": [
  {
   "cell_type": "markdown",
   "metadata": {},
   "source": [
    "## Bootstraping\n",
    "\n",
    "We're going to create random circles of fixed radius (1000 inside each sample)\n",
    "and count the number of buildings inside them, both real and predicted.\n",
    "\n",
    "For the circles to be fully contained inside the sample, their centers must be\n",
    "inside a square of `x-2r` side length, where `x` is the side length of the sample\n",
    "\n",
    "Then we'll compare the results of the distributions."
   ]
  },
  {
   "cell_type": "code",
   "execution_count": 1,
   "metadata": {},
   "outputs": [],
   "source": [
    "import os\n",
    "\n",
    "import numpy as np\n",
    "import pandas as pd\n",
    "import geopandas as gpd\n",
    "\n",
    "from multiprocessing import Pool\n",
    "\n",
    "from shapely.wkt import loads\n",
    "from shapely.geometry import Point"
   ]
  },
  {
   "cell_type": "code",
   "execution_count": 2,
   "metadata": {},
   "outputs": [],
   "source": [
    "def gen_circles(sample, n, radius, crs):\n",
    "    \"\"\"\n",
    "    Generate a GeoDataFrame of n circles with radius r\n",
    "    that fall completely inside `sample` (assuming `sample`\n",
    "    is a rectangle of at least 2*radius on each side)\n",
    "    \"\"\"\n",
    "    min_x, min_y, max_x, max_y = (\n",
    "        np.array(sample['geometry'].bounds) +\n",
    "        np.array([radius, radius, -radius, -radius])\n",
    "    )\n",
    "\n",
    "    rand_x = np.random.uniform(min_x, max_x, size=n)\n",
    "    rand_y = np.random.uniform(min_y, max_y, size=n)\n",
    "    \n",
    "    circles = [Point(x, y).buffer(radius) for x, y in zip(rand_x, rand_y)]\n",
    "    \n",
    "    return gpd.GeoDataFrame({'geometry': circles}, crs=crs).reset_index()\n",
    "\n",
    "def intersect_count(circles_df, points_df, groupby_cols=['index', 'type_short']):\n",
    "    \"\"\"\n",
    "    Count the number of points that fall inside a polygon.\n",
    "    \n",
    "    We'll use this to count the number of Ground Truth\n",
    "    points or building centroids that fall inside each\n",
    "    bootstrap circle\n",
    "    \"\"\"\n",
    "    sjoin = gpd.sjoin(circles_df, points_df, op='contains')\n",
    "    \n",
    "    return sjoin.groupby(groupby_cols).size().unstack(fill_value=0)\n",
    "\n",
    "def process_sample(idx, row):\n",
    "    \"\"\" Wrapper for multiprocessing \"\"\"\n",
    "    fid = f'FID_{row[\"FID\"]}_{row[\"Class\"].lower()}'\n",
    "    print(f'Working on {fid}')\n",
    "    circles = gen_circles(row, n, radius, samples.crs)\n",
    "    \n",
    "    return fid, intersect_count(circles, gt.loc[:, ['geometry', 'type_short']])"
   ]
  },
  {
   "cell_type": "markdown",
   "metadata": {},
   "source": [
    "Load data (Ground Truth, digitized and segmentized) and convert to local UTM"
   ]
  },
  {
   "cell_type": "code",
   "execution_count": 3,
   "metadata": {},
   "outputs": [],
   "source": [
    "latlon = {'init': 'epsg:4326'}\n",
    "utm_18 = {'init': 'epsg:32618'}\n",
    "\n",
    "strata = ['residential', 'rural', 'shanty', 'urbanirreg', 'urbanreg']\n",
    "\n",
    "class_path = '../data/results/classified/'\n",
    "gt_path = '../data/ground_truth/within_samples/'\n",
    "\n",
    "# Load samples\n",
    "samples = pd.read_csv(\"../data/samples/samples_reference.csv\")\n",
    "samples['geometry'] = samples['geometry_wkt'].apply(lambda x: loads(x))\n",
    "samples = gpd.GeoDataFrame(samples, crs=latlon)\n",
    "samples = samples.to_crs(crs=utm_18)\n",
    "\n",
    "# Load data\n",
    "digis = {stratum:gpd.read_file(os.path.join(class_path, f'{stratum}_digitized.gpkg')) for stratum in strata}\n",
    "segms = {stratum:gpd.read_file(os.path.join(class_path, f'{stratum}_segmentized.gpkg')) for stratum in strata}\n",
    "gts = {stratum:gpd.read_file(os.path.join(gt_path, f'gt_within_{stratum}')).to_crs(utm_18) for stratum in strata}"
   ]
  },
  {
   "cell_type": "code",
   "execution_count": 4,
   "metadata": {},
   "outputs": [],
   "source": [
    "bootstrap_path = '../data/results/bootstrap'\n",
    "circles_path = os.path.join(bootstrap_path, 'circles')\n",
    "os.makedirs(circles_path, exist_ok=True)\n",
    "\n",
    "bootstrap_res = {}\n",
    "for stratum in strata:\n",
    "    samples_stratum = samples.loc[samples['Class'].str.lower() == stratum]\n",
    "    digi = digis[stratum].copy()\n",
    "    segm = segms[stratum].copy()\n",
    "    gt = gts[stratum].copy()\n",
    "    \n",
    "    digi.geometry = digi.geometry.centroid\n",
    "    segm.geometry = segm.geometry.centroid\n",
    "    \n",
    "    for idx, sample in samples_stratum.iterrows():\n",
    "        circles = gen_circles(sample, 200, 40, utm_18)\n",
    "        \n",
    "        digi_res = intersect_count(circles, digi, groupby_cols=['index', 'class_svm_puk'])\n",
    "        segm_res = intersect_count(circles, segm, groupby_cols=['index', 'class_svm_puk'])\n",
    "        gt_res = intersect_count(circles, gt)\n",
    "        \n",
    "        bootstrap_res[f'{stratum}_{idx}'] = digi_res.join(segm_res, lsuffix='_digi', rsuffix='_segm').join(gt_res)\n",
    "        bootstrap_res[f'{stratum}_{idx}'].to_csv(os.path.join(bootstrap_path, f'bootstrap_{stratum}_{idx}.csv'))\n",
    "        \n",
    "        circles.to_file(os.path.join(circles_path, f'bootstrap_circles_{stratum}_{idx}.gpkg'), driver='GPKG')"
   ]
  }
 ],
 "metadata": {
  "kernelspec": {
   "display_name": "Python 3",
   "language": "python",
   "name": "python3"
  },
  "language_info": {
   "codemirror_mode": {
    "name": "ipython",
    "version": 3
   },
   "file_extension": ".py",
   "mimetype": "text/x-python",
   "name": "python",
   "nbconvert_exporter": "python",
   "pygments_lexer": "ipython3",
   "version": "3.6.4"
  }
 },
 "nbformat": 4,
 "nbformat_minor": 2
}
