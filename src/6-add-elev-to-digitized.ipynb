{
 "cells": [
  {
   "cell_type": "markdown",
   "metadata": {},
   "source": [
    "## Add elevation data to digitized buildings"
   ]
  },
  {
   "cell_type": "code",
   "execution_count": 1,
   "metadata": {},
   "outputs": [],
   "source": [
    "import os\n",
    "\n",
    "from multiprocessing import Pool\n",
    "from scipy import stats\n",
    "\n",
    "import geopandas as gpd\n",
    "import pandas as pd\n",
    "import numpy as np\n",
    "\n",
    "from shapely.geometry import MultiPolygon"
   ]
  },
  {
   "cell_type": "code",
   "execution_count": 2,
   "metadata": {},
   "outputs": [],
   "source": [
    "def mode(x):\n",
    "    mode, count = stats.mode(np.round(x))\n",
    "    return mode[0]"
   ]
  },
  {
   "cell_type": "code",
   "execution_count": 3,
   "metadata": {},
   "outputs": [],
   "source": [
    "base_path = \"../data/Digitization/\"\n",
    "elev_path = \"../data/lidar/las_to_vector/\""
   ]
  },
  {
   "cell_type": "markdown",
   "metadata": {},
   "source": [
    "Read all data"
   ]
  },
  {
   "cell_type": "code",
   "execution_count": 4,
   "metadata": {},
   "outputs": [
    {
     "name": "stdout",
     "output_type": "stream",
     "text": [
      "Reading sample FID_23\n",
      "Reading sample FID_14\n",
      "Reading sample FID_11\n",
      "Reading sample FID_6\n",
      "Reading sample FID_3\n",
      "Reading sample FID_9\n",
      "Reading sample FID_15\n",
      "Reading sample FID_10\n",
      "Reading sample FID_22\n",
      "Reading sample FID_8\n",
      "Reading sample FID_7\n",
      "Reading sample FID_2\n",
      "Reading sample FID_1\n",
      "Reading sample FID_4\n",
      "Reading sample FID_21\n",
      "Reading sample FID_19\n",
      "Reading sample FID_13\n",
      "Reading sample FID_16\n",
      "Reading sample FID_0\n",
      "Reading sample FID_5\n",
      "Reading sample FID_12\n",
      "Reading sample FID_17\n",
      "Reading sample FID_18\n",
      "Reading sample FID_20\n"
     ]
    }
   ],
   "source": [
    "sample_names = [x.rstrip('_PointHeight_cor.gpkg') for x in os.listdir(elev_path) if x.endswith('_PointHeight_cor.gpkg')]\n",
    "samples = {}\n",
    "for sample in sample_names:\n",
    "    print(f'Reading sample {sample}')\n",
    "    digi_name = sample.replace('_', '') + '_Digitiz.shp'\n",
    "    elev_name = sample + '_PointHeight_cor.gpkg'\n",
    "    samples[sample] = {\n",
    "        'digi': gpd.read_file(os.path.join(base_path, digi_name)),\n",
    "        'elev': gpd.read_file(os.path.join(elev_path, elev_name))\n",
    "    }"
   ]
  },
  {
   "cell_type": "markdown",
   "metadata": {},
   "source": [
    "Normalize column names"
   ]
  },
  {
   "cell_type": "code",
   "execution_count": 8,
   "metadata": {},
   "outputs": [],
   "source": [
    "for fid, dfs in samples.items():\n",
    "    cols_to_rename = {\n",
    "        'Id': 'OBJECTID',\n",
    "        'Area': 'SHAPE_Area'\n",
    "    }\n",
    "    dfs['digi'].rename(index=str, columns=cols_to_rename, inplace=True)\n",
    "    dfs['digi'] = dfs['digi'][['OBJECTID', 'SHAPE_Area', 'Roof', 'geometry']]"
   ]
  },
  {
   "cell_type": "markdown",
   "metadata": {},
   "source": [
    "## Assign points to buildings\n",
    "\n",
    "Then, aggregate data by building and join back to digitized DFs to save"
   ]
  },
  {
   "cell_type": "code",
   "execution_count": 11,
   "metadata": {},
   "outputs": [
    {
     "name": "stdout",
     "output_type": "stream",
     "text": [
      "Working on FID_23\n",
      "Polygon and Multipolygons detected. Casting all to Multi...\n",
      "Working on FID_14\n",
      "Polygon and Multipolygons detected. Casting all to Multi...\n",
      "Working on FID_11\n",
      "Working on FID_6\n",
      "Working on FID_3\n",
      "Polygon and Multipolygons detected. Casting all to Multi...\n",
      "Working on FID_9\n",
      "Working on FID_15\n",
      "Polygon and Multipolygons detected. Casting all to Multi...\n",
      "Working on FID_10\n",
      "Working on FID_22\n",
      "Working on FID_8\n",
      "Polygon and Multipolygons detected. Casting all to Multi...\n",
      "Working on FID_7\n",
      "Working on FID_2\n",
      "Working on FID_1\n",
      "Working on FID_4\n",
      "Working on FID_21\n",
      "Polygon and Multipolygons detected. Casting all to Multi...\n",
      "Working on FID_19\n",
      "Working on FID_13\n",
      "Working on FID_16\n",
      "Polygon and Multipolygons detected. Casting all to Multi...\n",
      "Working on FID_0\n",
      "Working on FID_5\n",
      "Working on FID_12\n",
      "Polygon and Multipolygons detected. Casting all to Multi...\n",
      "Working on FID_17\n",
      "Working on FID_18\n",
      "Polygon and Multipolygons detected. Casting all to Multi...\n",
      "Working on FID_20\n"
     ]
    }
   ],
   "source": [
    "for k, v in samples.items():\n",
    "    print(f'Working on {k}')\n",
    "    v['elev'] = v['elev'].to_crs(v['digi'].crs)\n",
    "    df = gpd.sjoin(v['elev'], v['digi'], op='within')\n",
    "    agg_df = df.groupby('index_right').agg(\n",
    "        {'z': [min, max, np.mean, np.median, mode]}\n",
    "    )\n",
    "    agg_df.columns = agg_df.columns.get_level_values(1)\n",
    "    \n",
    "    # Check if multipolygons are present\n",
    "    # and cast all simple ones to multi if necessary\n",
    "    geom_types = v['digi'].geometry.geom_type.unique()\n",
    "    if ('MultiPolygon' in geom_types) and (len(geom_types) > 1):\n",
    "        print('Polygon and Multipolygons detected. Casting all to Multi...')\n",
    "        v['digi'].geometry = v['digi'].geometry.apply(lambda x: MultiPolygon([x]))\n",
    "    \n",
    "    v['digi'].join(agg_df).to_file(\n",
    "        os.path.join(os.path.join(base_path, 'output'), f'{k}_digi_elev.gpkg'),\n",
    "        driver='GPKG'\n",
    "    )"
   ]
  },
  {
   "cell_type": "markdown",
   "metadata": {},
   "source": [
    "## Quickfix: Remove points from vector files where height is Out Of Bounds"
   ]
  },
  {
   "cell_type": "code",
   "execution_count": 3,
   "metadata": {},
   "outputs": [],
   "source": [
    "elev_path = \"../data/lidar/las_to_vector/\"\n",
    "def process_save(file):\n",
    "    print(file)\n",
    "    fp = os.path.join(elev_path, file)\n",
    "    gdf = gpd.read_file(fp)\n",
    "    gdf.loc[(gdf['z'] >= 0) & (gdf['z'] <= 25), :].to_file(fp, driver='GPKG')"
   ]
  },
  {
   "cell_type": "code",
   "execution_count": 4,
   "metadata": {},
   "outputs": [
    {
     "name": "stdout",
     "output_type": "stream",
     "text": [
      "FID_20_PointHeight.gpkg\n",
      "FID_15_PointHeight.gpkg\n",
      "FID_10_PointHeight.gpkg\n",
      "FID_1_PointHeight.gpkg\n",
      "FID_11_PointHeight.gpkg\n",
      "FID_21_PointHeight.gpkg\n",
      "FID_0_PointHeight.gpkg\n",
      "FID_5_PointHeight.gpkg\n",
      "FID_14_PointHeight.gpkg\n",
      "FID_4_PointHeight.gpkg\n",
      "FID_13_PointHeight.gpkg\n",
      "FID_18_PointHeight.gpkg\n",
      "FID_8_PointHeight.gpkg\n",
      "FID_3_PointHeight.gpkg\n",
      "FID_7_PointHeight.gpkg\n",
      "FID_17_PointHeight.gpkg\n",
      "FID_12_PointHeight.gpkg\n",
      "FID_9_PointHeight.gpkg\n",
      "FID_19_PointHeight.gpkg\n",
      "FID_6_PointHeight.gpkg\n",
      "FID_23_PointHeight.gpkg\n",
      "FID_22_PointHeight.gpkg\n",
      "FID_2_PointHeight.gpkg\n",
      "FID_16_PointHeight.gpkg\n"
     ]
    },
    {
     "ename": "RuntimeError",
     "evalue": "Failed to write record: {'id': '92124', 'type': 'Feature', 'properties': {'new_class': 5, 'raw_class': 5, 'x': 779396.11, 'y': 2051605.49, 'z': 3.0}, 'geometry': {'type': 'Point', 'coordinates': (-72.3534009879044, 18.536586170133795)}}",
     "output_type": "error",
     "traceback": [
      "\u001b[0;31m---------------------------------------------------------------------------\u001b[0m",
      "\u001b[0;31mRemoteTraceback\u001b[0m                           Traceback (most recent call last)",
      "\u001b[0;31mRemoteTraceback\u001b[0m: \n\"\"\"\nTraceback (most recent call last):\n  File \"/Library/Frameworks/Python.framework/Versions/3.6/lib/python3.6/multiprocessing/pool.py\", line 119, in worker\n    result = (True, func(*args, **kwds))\n  File \"/Library/Frameworks/Python.framework/Versions/3.6/lib/python3.6/multiprocessing/pool.py\", line 44, in mapstar\n    return list(map(*args))\n  File \"<ipython-input-3-53b97b13dddc>\", line 6, in process_save\n    gdf.loc[(gdf['z'] >= 0) & (gdf['z'] <= 25), :].to_file(fp, driver='GPKG')\n  File \"/Library/Frameworks/Python.framework/Versions/3.6/lib/python3.6/site-packages/geopandas/geodataframe.py\", line 365, in to_file\n    to_file(self, filename, driver, schema, **kwargs)\n  File \"/Library/Frameworks/Python.framework/Versions/3.6/lib/python3.6/site-packages/geopandas/io/file.py\", line 66, in to_file\n    colxn.write(feature)\n  File \"/Library/Frameworks/Python.framework/Versions/3.6/lib/python3.6/site-packages/fiona/collection.py\", line 341, in write\n    self.writerecords([record])\n  File \"/Library/Frameworks/Python.framework/Versions/3.6/lib/python3.6/site-packages/fiona/collection.py\", line 335, in writerecords\n    self.session.writerecs(records, self)\n  File \"fiona/ogrext.pyx\", line 1061, in fiona.ogrext.WritingSession.writerecs\nRuntimeError: Failed to write record: {'id': '92124', 'type': 'Feature', 'properties': {'new_class': 5, 'raw_class': 5, 'x': 779396.11, 'y': 2051605.49, 'z': 3.0}, 'geometry': {'type': 'Point', 'coordinates': (-72.3534009879044, 18.536586170133795)}}\n\"\"\"",
      "\nThe above exception was the direct cause of the following exception:\n",
      "\u001b[0;31mRuntimeError\u001b[0m                              Traceback (most recent call last)",
      "\u001b[0;32m<ipython-input-4-2f443ebd382d>\u001b[0m in \u001b[0;36m<module>\u001b[0;34m()\u001b[0m\n\u001b[1;32m      1\u001b[0m \u001b[0mpool\u001b[0m \u001b[0;34m=\u001b[0m \u001b[0mPool\u001b[0m\u001b[0;34m(\u001b[0m\u001b[0;34m)\u001b[0m\u001b[0;34m\u001b[0m\u001b[0m\n\u001b[1;32m      2\u001b[0m \u001b[0mfiles\u001b[0m \u001b[0;34m=\u001b[0m \u001b[0;34m[\u001b[0m\u001b[0mx\u001b[0m \u001b[0;32mfor\u001b[0m \u001b[0mx\u001b[0m \u001b[0;32min\u001b[0m \u001b[0mos\u001b[0m\u001b[0;34m.\u001b[0m\u001b[0mlistdir\u001b[0m\u001b[0;34m(\u001b[0m\u001b[0melev_path\u001b[0m\u001b[0;34m)\u001b[0m \u001b[0;32mif\u001b[0m \u001b[0mx\u001b[0m\u001b[0;34m.\u001b[0m\u001b[0mendswith\u001b[0m\u001b[0;34m(\u001b[0m\u001b[0;34m'.gpkg'\u001b[0m\u001b[0;34m)\u001b[0m\u001b[0;34m]\u001b[0m\u001b[0;34m\u001b[0m\u001b[0m\n\u001b[0;32m----> 3\u001b[0;31m \u001b[0mpool\u001b[0m\u001b[0;34m.\u001b[0m\u001b[0mmap\u001b[0m\u001b[0;34m(\u001b[0m\u001b[0mprocess_save\u001b[0m\u001b[0;34m,\u001b[0m \u001b[0mfiles\u001b[0m\u001b[0;34m)\u001b[0m\u001b[0;34m\u001b[0m\u001b[0m\n\u001b[0m",
      "\u001b[0;32m/Library/Frameworks/Python.framework/Versions/3.6/lib/python3.6/multiprocessing/pool.py\u001b[0m in \u001b[0;36mmap\u001b[0;34m(self, func, iterable, chunksize)\u001b[0m\n\u001b[1;32m    264\u001b[0m         \u001b[0;32min\u001b[0m \u001b[0ma\u001b[0m \u001b[0mlist\u001b[0m \u001b[0mthat\u001b[0m \u001b[0;32mis\u001b[0m \u001b[0mreturned\u001b[0m\u001b[0;34m.\u001b[0m\u001b[0;34m\u001b[0m\u001b[0m\n\u001b[1;32m    265\u001b[0m         '''\n\u001b[0;32m--> 266\u001b[0;31m         \u001b[0;32mreturn\u001b[0m \u001b[0mself\u001b[0m\u001b[0;34m.\u001b[0m\u001b[0m_map_async\u001b[0m\u001b[0;34m(\u001b[0m\u001b[0mfunc\u001b[0m\u001b[0;34m,\u001b[0m \u001b[0miterable\u001b[0m\u001b[0;34m,\u001b[0m \u001b[0mmapstar\u001b[0m\u001b[0;34m,\u001b[0m \u001b[0mchunksize\u001b[0m\u001b[0;34m)\u001b[0m\u001b[0;34m.\u001b[0m\u001b[0mget\u001b[0m\u001b[0;34m(\u001b[0m\u001b[0;34m)\u001b[0m\u001b[0;34m\u001b[0m\u001b[0m\n\u001b[0m\u001b[1;32m    267\u001b[0m \u001b[0;34m\u001b[0m\u001b[0m\n\u001b[1;32m    268\u001b[0m     \u001b[0;32mdef\u001b[0m \u001b[0mstarmap\u001b[0m\u001b[0;34m(\u001b[0m\u001b[0mself\u001b[0m\u001b[0;34m,\u001b[0m \u001b[0mfunc\u001b[0m\u001b[0;34m,\u001b[0m \u001b[0miterable\u001b[0m\u001b[0;34m,\u001b[0m \u001b[0mchunksize\u001b[0m\u001b[0;34m=\u001b[0m\u001b[0;32mNone\u001b[0m\u001b[0;34m)\u001b[0m\u001b[0;34m:\u001b[0m\u001b[0;34m\u001b[0m\u001b[0m\n",
      "\u001b[0;32m/Library/Frameworks/Python.framework/Versions/3.6/lib/python3.6/multiprocessing/pool.py\u001b[0m in \u001b[0;36mget\u001b[0;34m(self, timeout)\u001b[0m\n\u001b[1;32m    642\u001b[0m             \u001b[0;32mreturn\u001b[0m \u001b[0mself\u001b[0m\u001b[0;34m.\u001b[0m\u001b[0m_value\u001b[0m\u001b[0;34m\u001b[0m\u001b[0m\n\u001b[1;32m    643\u001b[0m         \u001b[0;32melse\u001b[0m\u001b[0;34m:\u001b[0m\u001b[0;34m\u001b[0m\u001b[0m\n\u001b[0;32m--> 644\u001b[0;31m             \u001b[0;32mraise\u001b[0m \u001b[0mself\u001b[0m\u001b[0;34m.\u001b[0m\u001b[0m_value\u001b[0m\u001b[0;34m\u001b[0m\u001b[0m\n\u001b[0m\u001b[1;32m    645\u001b[0m \u001b[0;34m\u001b[0m\u001b[0m\n\u001b[1;32m    646\u001b[0m     \u001b[0;32mdef\u001b[0m \u001b[0m_set\u001b[0m\u001b[0;34m(\u001b[0m\u001b[0mself\u001b[0m\u001b[0;34m,\u001b[0m \u001b[0mi\u001b[0m\u001b[0;34m,\u001b[0m \u001b[0mobj\u001b[0m\u001b[0;34m)\u001b[0m\u001b[0;34m:\u001b[0m\u001b[0;34m\u001b[0m\u001b[0m\n",
      "\u001b[0;31mRuntimeError\u001b[0m: Failed to write record: {'id': '92124', 'type': 'Feature', 'properties': {'new_class': 5, 'raw_class': 5, 'x': 779396.11, 'y': 2051605.49, 'z': 3.0}, 'geometry': {'type': 'Point', 'coordinates': (-72.3534009879044, 18.536586170133795)}}"
     ]
    }
   ],
   "source": [
    "pool = Pool()\n",
    "files = [x for x in os.listdir(elev_path) if x.endswith('.gpkg')]\n",
    "pool.map(process_save, files)"
   ]
  },
  {
   "cell_type": "code",
   "execution_count": null,
   "metadata": {},
   "outputs": [],
   "source": []
  }
 ],
 "metadata": {
  "kernelspec": {
   "display_name": "Python 3",
   "language": "python",
   "name": "python3"
  },
  "language_info": {
   "codemirror_mode": {
    "name": "ipython",
    "version": 3
   },
   "file_extension": ".py",
   "mimetype": "text/x-python",
   "name": "python",
   "nbconvert_exporter": "python",
   "pygments_lexer": "ipython3",
   "version": "3.6.4"
  }
 },
 "nbformat": 4,
 "nbformat_minor": 2
}
